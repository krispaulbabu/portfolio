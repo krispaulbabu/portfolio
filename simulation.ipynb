{
 "cells": [
  {
   "cell_type": "code",
   "execution_count": 2,
   "metadata": {},
   "outputs": [],
   "source": [
    "import random as r "
   ]
  },
  {
   "cell_type": "code",
   "execution_count": 1,
   "metadata": {},
   "outputs": [],
   "source": [
    "door1=0 \n",
    "door2=0 \n",
    "door3=0"
   ]
  },
  {
   "cell_type": "code",
   "execution_count": null,
   "metadata": {},
   "outputs": [],
   "source": [
    "choice=r.random()*2\n"
   ]
  },
  {
   "cell_type": "code",
   "execution_count": 94,
   "metadata": {},
   "outputs": [
    {
     "name": "stdout",
     "output_type": "stream",
     "text": [
      "Number of times you win: 0.355\n",
      "Number of times you lose: 0.645\n"
     ]
    }
   ],
   "source": [
    "wrongs=0\n",
    "corrects=0\n",
    "for x in range(1000): \n",
    "    choice= round(r.random()*2)\n",
    "    correct=round(r.random()*2)\n",
    "    if(choice==correct):\n",
    "        corrects+=1\n",
    "    else: wrongs+=1\n",
    "\n",
    "print(\"Number of times you win: \"+str(corrects/1000))\n",
    "print(\"Number of times you lose: \"+str(wrongs/1000))"
   ]
  },
  {
   "cell_type": "code",
   "execution_count": null,
   "metadata": {},
   "outputs": [],
   "source": []
  }
 ],
 "metadata": {
  "kernelspec": {
   "display_name": "Python 3",
   "language": "python",
   "name": "python3"
  },
  "language_info": {
   "codemirror_mode": {
    "name": "ipython",
    "version": 3
   },
   "file_extension": ".py",
   "mimetype": "text/x-python",
   "name": "python",
   "nbconvert_exporter": "python",
   "pygments_lexer": "ipython3",
   "version": "3.11.4"
  },
  "orig_nbformat": 4
 },
 "nbformat": 4,
 "nbformat_minor": 2
}
